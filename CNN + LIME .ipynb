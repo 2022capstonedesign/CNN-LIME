{
 "cells": [
  {
   "cell_type": "code",
   "execution_count": 44,
   "id": "ac594190",
   "metadata": {},
   "outputs": [
    {
     "name": "stdout",
     "output_type": "stream",
     "text": [
      "Using cuda device\n"
     ]
    }
   ],
   "source": [
    "import pandas as pd\n",
    "import numpy as np\n",
    "import matplotlib.pyplot as plt\n",
    "#import seaborn as sns\n",
    "#import set_matplotlib_hangul\n",
    "%matplotlib inline\n",
    "import torch\n",
    "import tensorflow as tf\n",
    "import os\n",
    "import PIL\n",
    "import shutil\n",
    "\n",
    "device = 'cuda' if torch.cuda.is_available() else 'cpu'\n",
    "print(f'Using {device} device')\n",
    "\n"
   ]
  },
  {
   "cell_type": "code",
   "execution_count": 45,
   "id": "15c5790d",
   "metadata": {},
   "outputs": [],
   "source": [
    "os.environ[\"CUDA_VISIBLE_DEVICES\"]=\"0\"\n",
    "gpus = tf.config.experimental.list_physical_devices('GPU')"
   ]
  },
  {
   "cell_type": "code",
   "execution_count": 46,
   "id": "1d13a379",
   "metadata": {},
   "outputs": [
    {
     "name": "stdout",
     "output_type": "stream",
     "text": [
      "Found 128 images belonging to 2 classes.\n",
      "Found 45 images belonging to 2 classes.\n"
     ]
    }
   ],
   "source": [
    "from tensorflow.keras.preprocessing import image\n",
    "from tensorflow.keras.preprocessing.image import ImageDataGenerator\n",
    "# 기본 경로\n",
    "train_dir ='C:\\\\Users\\\\dkenl\\\\OneDrive\\\\바탕 화면\\\\train2'\n",
    "test_dir = 'C:\\\\Users\\\\dkenl\\\\OneDrive\\\\바탕 화면\\\\test2'\n",
    "\n",
    "train_image_generator = ImageDataGenerator(rescale=1./255)\n",
    "test_image_generator = ImageDataGenerator(rescale=1./255)\n",
    "\n",
    "\n",
    "train_data_gen = train_image_generator.flow_from_directory(batch_size=128,\n",
    "                                                           directory=train_dir,\n",
    "                                                           shuffle=True,\n",
    "                                                           target_size=(150,150),\n",
    "                                                           class_mode='binary')\n",
    "\n",
    "test_data_gen = test_image_generator.flow_from_directory(batch_size=128,\n",
    "                                                         directory=test_dir,\n",
    "                                                         target_size=(150,150),\n",
    "                                                         class_mode='binary')"
   ]
  },
  {
   "cell_type": "code",
   "execution_count": 47,
   "id": "a7975db4",
   "metadata": {},
   "outputs": [
    {
     "data": {
      "text/plain": [
       "{'gongin': 0, 'samsung': 1}"
      ]
     },
     "execution_count": 47,
     "metadata": {},
     "output_type": "execute_result"
    }
   ],
   "source": [
    "train_data_gen.class_indices"
   ]
  },
  {
   "cell_type": "code",
   "execution_count": 48,
   "id": "bc3d5e9f",
   "metadata": {},
   "outputs": [
    {
     "name": "stdout",
     "output_type": "stream",
     "text": [
      "Model: \"sequential_1\"\n",
      "_________________________________________________________________\n",
      "Layer (type)                 Output Shape              Param #   \n",
      "=================================================================\n",
      "conv2d_3 (Conv2D)            (None, 146, 146, 32)      2432      \n",
      "_________________________________________________________________\n",
      "max_pooling2d_3 (MaxPooling2 (None, 73, 73, 32)        0         \n",
      "_________________________________________________________________\n",
      "conv2d_4 (Conv2D)            (None, 71, 71, 64)        18496     \n",
      "_________________________________________________________________\n",
      "max_pooling2d_4 (MaxPooling2 (None, 35, 35, 64)        0         \n",
      "_________________________________________________________________\n",
      "conv2d_5 (Conv2D)            (None, 33, 33, 64)        36928     \n",
      "_________________________________________________________________\n",
      "max_pooling2d_5 (MaxPooling2 (None, 16, 16, 64)        0         \n",
      "_________________________________________________________________\n",
      "flatten_1 (Flatten)          (None, 16384)             0         \n",
      "_________________________________________________________________\n",
      "dense_2 (Dense)              (None, 512)               8389120   \n",
      "_________________________________________________________________\n",
      "dense_3 (Dense)              (None, 1)                 513       \n",
      "=================================================================\n",
      "Total params: 8,447,489\n",
      "Trainable params: 8,447,489\n",
      "Non-trainable params: 0\n",
      "_________________________________________________________________\n"
     ]
    }
   ],
   "source": [
    "import tensorflow as tf\n",
    "import tensorflow as tf\n",
    "\n",
    "model = tf.keras.models.Sequential([\n",
    "    tf.keras.layers.Conv2D(32, (5,5), activation='relu', input_shape=(150, 150, 3)),\n",
    "    \n",
    "    tf.keras.layers.MaxPooling2D(2,2),\n",
    "    \n",
    "    tf.keras.layers.Conv2D(64, (3,3), activation='relu'),\n",
    "    \n",
    "    tf.keras.layers.MaxPooling2D(2,2),\n",
    "    \n",
    "    tf.keras.layers.Conv2D(64, (3,3), activation='relu'),\n",
    "    \n",
    "    tf.keras.layers.MaxPooling2D(2,2),\n",
    "    \n",
    "    tf.keras.layers.Flatten(),\n",
    "    \n",
    "    tf.keras.layers.Dense(512, activation='relu'),\n",
    "    \n",
    "    tf.keras.layers.Dense(1, activation='sigmoid')\n",
    "])\n",
    "model.summary() # 신경망의 구조 확인\n"
   ]
  },
  {
   "cell_type": "code",
   "execution_count": 49,
   "id": "9c827c93",
   "metadata": {},
   "outputs": [
    {
     "name": "stdout",
     "output_type": "stream",
     "text": [
      "Epoch 1/50\n",
      "WARNING:tensorflow:Your input ran out of data; interrupting training. Make sure that your dataset or generator can generate at least `steps_per_epoch * epochs` batches (in this case, 4 batches). You may need to use the repeat() function when building your dataset.\n",
      "1/1 - 4s - loss: 0.6978 - accuracy: 0.5000 - val_loss: 29.2365 - val_accuracy: 0.4889\n",
      "Epoch 2/50\n",
      "1/1 - 0s - loss: 28.7413 - accuracy: 0.5000\n",
      "Epoch 3/50\n",
      "1/1 - 0s - loss: 2.0037 - accuracy: 0.5000\n",
      "Epoch 4/50\n",
      "1/1 - 0s - loss: 0.7144 - accuracy: 0.5000\n",
      "Epoch 5/50\n",
      "1/1 - 0s - loss: 0.8166 - accuracy: 0.5000\n",
      "Epoch 6/50\n",
      "1/1 - 0s - loss: 1.2428 - accuracy: 0.5000\n",
      "Epoch 7/50\n",
      "1/1 - 0s - loss: 0.6936 - accuracy: 0.5000\n",
      "Epoch 8/50\n",
      "1/1 - 0s - loss: 0.6805 - accuracy: 0.5000\n",
      "Epoch 9/50\n",
      "1/1 - 0s - loss: 0.6671 - accuracy: 0.5078\n",
      "Epoch 10/50\n",
      "1/1 - 0s - loss: 0.6594 - accuracy: 0.5000\n",
      "Epoch 11/50\n",
      "1/1 - 0s - loss: 0.6430 - accuracy: 0.5625\n",
      "Epoch 12/50\n",
      "1/1 - 0s - loss: 0.6292 - accuracy: 0.5547\n",
      "Epoch 13/50\n",
      "1/1 - 0s - loss: 0.5908 - accuracy: 0.6641\n",
      "Epoch 14/50\n",
      "1/1 - 0s - loss: 0.8023 - accuracy: 0.5000\n",
      "Epoch 15/50\n",
      "1/1 - 0s - loss: 0.6873 - accuracy: 0.5000\n",
      "Epoch 16/50\n",
      "1/1 - 0s - loss: 0.5881 - accuracy: 0.6875\n",
      "Epoch 17/50\n",
      "1/1 - 0s - loss: 0.5509 - accuracy: 0.8984\n",
      "Epoch 18/50\n",
      "1/1 - 0s - loss: 0.5428 - accuracy: 0.6641\n",
      "Epoch 19/50\n",
      "1/1 - 0s - loss: 0.6348 - accuracy: 0.5703\n",
      "Epoch 20/50\n",
      "1/1 - 0s - loss: 0.5568 - accuracy: 0.6562\n",
      "Epoch 21/50\n",
      "1/1 - 0s - loss: 0.4870 - accuracy: 0.9219\n",
      "Epoch 22/50\n",
      "1/1 - 0s - loss: 0.4556 - accuracy: 0.7188\n",
      "Epoch 23/50\n",
      "1/1 - 0s - loss: 0.5678 - accuracy: 0.6250\n",
      "Epoch 24/50\n",
      "1/1 - 0s - loss: 0.4515 - accuracy: 0.7422\n",
      "Epoch 25/50\n",
      "1/1 - 0s - loss: 0.4138 - accuracy: 0.8594\n",
      "Epoch 26/50\n",
      "1/1 - 0s - loss: 0.4268 - accuracy: 0.7344\n",
      "Epoch 27/50\n",
      "1/1 - 0s - loss: 0.5339 - accuracy: 0.6797\n",
      "Epoch 28/50\n",
      "1/1 - 0s - loss: 0.3941 - accuracy: 0.8906\n",
      "Epoch 29/50\n",
      "1/1 - 0s - loss: 0.3084 - accuracy: 0.8984\n",
      "Epoch 30/50\n",
      "1/1 - 0s - loss: 0.2811 - accuracy: 0.8672\n",
      "Epoch 31/50\n",
      "1/1 - 0s - loss: 0.9966 - accuracy: 0.5859\n",
      "Epoch 32/50\n",
      "1/1 - 0s - loss: 0.8054 - accuracy: 0.5000\n",
      "Epoch 33/50\n",
      "1/1 - 0s - loss: 0.5590 - accuracy: 0.9531\n",
      "Epoch 34/50\n",
      "1/1 - 0s - loss: 0.4590 - accuracy: 0.8359\n",
      "Epoch 35/50\n",
      "1/1 - 0s - loss: 0.4591 - accuracy: 0.7500\n",
      "Epoch 36/50\n",
      "1/1 - 0s - loss: 1.6163 - accuracy: 0.5078\n",
      "Epoch 37/50\n",
      "1/1 - 0s - loss: 0.6052 - accuracy: 0.6172\n",
      "Epoch 38/50\n",
      "1/1 - 0s - loss: 0.5395 - accuracy: 0.8750\n",
      "Epoch 39/50\n",
      "1/1 - 0s - loss: 0.4600 - accuracy: 0.9062\n",
      "Epoch 40/50\n",
      "1/1 - 0s - loss: 0.3817 - accuracy: 0.8594\n",
      "Epoch 41/50\n",
      "1/1 - 0s - loss: 0.3272 - accuracy: 0.9062\n",
      "Epoch 42/50\n",
      "1/1 - 0s - loss: 0.7036 - accuracy: 0.6172\n",
      "Epoch 43/50\n",
      "1/1 - 0s - loss: 0.7163 - accuracy: 0.6016\n",
      "Epoch 44/50\n",
      "1/1 - 0s - loss: 0.3904 - accuracy: 0.8203\n",
      "Epoch 45/50\n",
      "1/1 - 0s - loss: 0.3208 - accuracy: 0.8750\n",
      "Epoch 46/50\n",
      "1/1 - 0s - loss: 0.2687 - accuracy: 0.9062\n",
      "Epoch 47/50\n",
      "1/1 - 0s - loss: 0.2297 - accuracy: 0.9062\n",
      "Epoch 48/50\n",
      "1/1 - 0s - loss: 0.2368 - accuracy: 0.8828\n",
      "Epoch 49/50\n",
      "1/1 - 0s - loss: 0.6086 - accuracy: 0.6797\n",
      "Epoch 50/50\n",
      "1/1 - 0s - loss: 0.4892 - accuracy: 0.7500\n"
     ]
    }
   ],
   "source": [
    "from tensorflow.keras.optimizers import RMSprop\n",
    "\n",
    "\n",
    "model.compile(loss='binary_crossentropy', optimizer=RMSprop(learning_rate=0.001),\n",
    "              metrics=['accuracy'])\n",
    "# 모델 훈련\n",
    "history = model.fit_generator(train_data_gen, \n",
    "                              validation_data=test_data_gen, \n",
    "                              epochs=50, \n",
    "                              validation_steps=4, \n",
    "                              verbose=2)"
   ]
  },
  {
   "cell_type": "code",
   "execution_count": 50,
   "id": "52813a43",
   "metadata": {},
   "outputs": [
    {
     "name": "stdout",
     "output_type": "stream",
     "text": [
      "1/1 [==============================] - 0s 2ms/step - loss: 0.4144 - accuracy: 0.8438\n"
     ]
    },
    {
     "data": {
      "text/plain": [
       "[0.4144274592399597, 0.84375]"
      ]
     },
     "execution_count": 50,
     "metadata": {},
     "output_type": "execute_result"
    }
   ],
   "source": [
    "model.evaluate(train_data_gen)"
   ]
  },
  {
   "cell_type": "code",
   "execution_count": 51,
   "id": "34c40ffa",
   "metadata": {},
   "outputs": [
    {
     "name": "stdout",
     "output_type": "stream",
     "text": [
      "1/1 [==============================] - 0s 2ms/step - loss: 0.5384 - accuracy: 0.7333\n"
     ]
    },
    {
     "data": {
      "text/plain": [
       "[0.5383687019348145, 0.7333333492279053]"
      ]
     },
     "execution_count": 51,
     "metadata": {},
     "output_type": "execute_result"
    }
   ],
   "source": [
    "model.evaluate(test_data_gen)"
   ]
  },
  {
   "cell_type": "code",
   "execution_count": 52,
   "id": "a6528a39",
   "metadata": {},
   "outputs": [
    {
     "name": "stdout",
     "output_type": "stream",
     "text": [
      "['공인_002.jpg', '공인_003.jpg', '공인_004.jpg', '공인_005.jpg', '공인_006.jpg', '공인_007.jpg', '공인_008.jpg', '공인_009.jpg', '공인_010.jpg', '공인_011.jpg', '공인_012.jpg', '공인_013.jpg', '공인_014.jpg', '공인_015.jpg', '공인_016.jpg', '공인_017.jpg', '공인_018.jpg', '공인_019.jpg', '공인_020.jpg', '공인_021.jpg', '공인_022.jpg', '공인_023.jpg', '공인_024.jpg', '공인_025.jpg', '공인_026.jpg', '공인_027.jpg', '공인_028.jpg', '공인_029.jpg', '공인_030.jpg', '공인_031.jpg', '공인_032.jpg', '공인_033.jpg', '공인_034.jpg', '공인_035.jpg', '공인_036.jpg', '공인_037.jpg', '공인_038.jpg', '공인_039.jpg', '공인_040.jpg', '공인_041.jpg', '공인_042.jpg', '공인_043.jpg', '공인_044.jpg', '공인_045.jpg', '공인_046.jpg', '공인_047.jpg', '공인_048.jpg', '공인_049.jpg', '공인_050.jpg', '공인_051.jpg', '공인_052.jpg', '공인_053.jpg', '공인_054.jpg', '공인_055.jpg', '공인_056.jpg', '공인_057.jpg', '공인_058.jpg', '공인_059.jpg', '공인_060.jpg', '공인_061.jpg', '공인_062.jpg', '공인_063.jpg', '공인_064.jpg', '공인_065.jpg']\n",
      "64\n"
     ]
    }
   ],
   "source": [
    "#여기서부터 lime\n",
    "\n",
    "train_fnames=os.listdir('C:\\\\Users\\\\dkenl\\\\OneDrive\\\\바탕 화면\\\\train2\\\\gongin')\n",
    "print(train_fnames)\n",
    "print(len(os.listdir('C:\\\\Users\\\\dkenl\\\\OneDrive\\\\바탕 화면\\\\train2\\\\gongin')))"
   ]
  },
  {
   "cell_type": "code",
   "execution_count": 67,
   "id": "0d762409",
   "metadata": {},
   "outputs": [
    {
     "data": {
      "text/plain": [
       "'C:\\\\Users\\\\dkenl\\\\OneDrive\\\\바탕 화면\\\\train2\\\\gongin\\\\공인_002.jpg'"
      ]
     },
     "execution_count": 67,
     "metadata": {},
     "output_type": "execute_result"
    }
   ],
   "source": [
    "train_gongin='C:\\\\Users\\\\dkenl\\\\OneDrive\\\\바탕 화면\\\\train2\\\\gongin'\n",
    "images=os.listdir('C:\\\\Users\\\\dkenl\\\\OneDrive\\\\바탕 화면\\\\train2\\\\gongin')\n",
    "\n",
    "a=os.path.join(train_gongin,images[0])\n",
    "a"
   ]
  },
  {
   "cell_type": "code",
   "execution_count": 68,
   "id": "77d0de0b",
   "metadata": {},
   "outputs": [],
   "source": [
    "image_path=a\n",
    "IMG_SIZE = (150,150,3)\n",
    "def transform_image(image_path, size):\n",
    "    '''\n",
    "    Function to transform an image to normalized numpy array\n",
    "    '''\n",
    "    img = image.load_img(image_path, target_size=size)\n",
    "    img = image.img_to_array(img)# Transforming the image to get the shape as [channel, height, width]\n",
    "    img = np.expand_dims(img, axis=0) # Adding dimension to convert array into a batch of size (1,299,299,3)\n",
    "    img = img/255.0 # normalizing the image to keep within the range of 0.0 to 1.0\n",
    "    \n",
    "    return img\n",
    "\n",
    "normalized_img = transform_image(image_path, IMG_SIZE)"
   ]
  },
  {
   "cell_type": "code",
   "execution_count": 69,
   "id": "9c32ae44",
   "metadata": {},
   "outputs": [
    {
     "data": {
      "application/vnd.jupyter.widget-view+json": {
       "model_id": "a021599f1a2945f6ad9f3a31619d956b",
       "version_major": 2,
       "version_minor": 0
      },
      "text/plain": [
       "  0%|          | 0/1000 [00:00<?, ?it/s]"
      ]
     },
     "metadata": {},
     "output_type": "display_data"
    }
   ],
   "source": [
    "from lime import lime_image \n",
    "explainer = lime_image.LimeImageExplainer()\n",
    "\n",
    "explanation = explainer.explain_instance(normalized_img[0], \n",
    "                                 model.predict, \n",
    "                                 top_labels=1, \n",
    "                                 hide_color=0, \n",
    "                                 num_samples=1000)"
   ]
  },
  {
   "cell_type": "code",
   "execution_count": 70,
   "id": "130d82e4",
   "metadata": {},
   "outputs": [
    {
     "data": {
      "text/plain": [
       "(-0.5, 149.5, 149.5, -0.5)"
      ]
     },
     "execution_count": 70,
     "metadata": {},
     "output_type": "execute_result"
    },
    {
     "data": {
      "image/png": "[encoded data removed]",
      "text/plain": [
       "<Figure size 1500x1500 with 2 Axes>"
      ]
     },
     "metadata": {},
     "output_type": "display_data"
    }
   ],
   "source": [
    "from skimage.segmentation import mark_boundaries \n",
    "temp_1, mask_1 = explanation.get_image_and_mask(explanation.top_labels[0], \n",
    "    positive_only=True, num_features=5, hide_rest=True) \n",
    "temp_2, mask_2 = explanation.get_image_and_mask(explanation.top_labels[0], \n",
    "    positive_only=False, num_features=10, hide_rest=False) \n",
    "fig, (ax1, ax2) = plt.subplots(1, 2, figsize=(15,15)) \n",
    "ax1.imshow(mark_boundaries(temp_1, mask_1)) \n",
    "ax2.imshow(mark_boundaries(temp_2, mask_2)) \n",
    "ax1.axis('off')\n",
    "ax2.axis('off')\n"
   ]
  },
  {
   "cell_type": "code",
   "execution_count": 71,
   "id": "85062588",
   "metadata": {},
   "outputs": [
    {
     "data": {
      "image/png": "[encoded data removed]",
      "text/plain": [
       "<Figure size 640x480 with 2 Axes>"
      ]
     },
     "metadata": {},
     "output_type": "display_data"
    }
   ],
   "source": [
    "def explanation_heatmap(exp, exp_class):\n",
    "    '''\n",
    "    Using heat-map to highlight the importance of each super-pixel for the model prediction\n",
    "    '''\n",
    "    dict_heatmap = dict(exp.local_exp[exp_class])\n",
    "    heatmap = np.vectorize(dict_heatmap.get)(exp.segments) \n",
    "    plt.imshow(heatmap, cmap = 'RdBu', vmin  = -heatmap.max(), vmax = heatmap.max())\n",
    "    plt.colorbar()\n",
    "    plt.show()\n",
    "\n",
    "explanation_heatmap(explanation, explanation.top_labels[0])"
   ]
  },
  {
   "cell_type": "code",
   "execution_count": null,
   "id": "353da334",
   "metadata": {},
   "outputs": [],
   "source": []
  }
 ],
 "metadata": {
  "kernelspec": {
   "display_name": "Python 3 (ipykernel)",
   "language": "python",
   "name": "python3"
  },
  "language_info": {
   "codemirror_mode": {
    "name": "ipython",
    "version": 3
   },
   "file_extension": ".py",
   "mimetype": "text/x-python",
   "name": "python",
   "nbconvert_exporter": "python",
   "pygments_lexer": "ipython3",
   "version": "3.7.9"
  },
  "toc": {
   "base_numbering": 1,
   "nav_menu": {},
   "number_sections": true,
   "sideBar": true,
   "skip_h1_title": false,
   "title_cell": "Table of Contents",
   "title_sidebar": "Contents",
   "toc_cell": false,
   "toc_position": {},
   "toc_section_display": true,
   "toc_window_display": false
  }
 },
 "nbformat": 4,
 "nbformat_minor": 5
}
